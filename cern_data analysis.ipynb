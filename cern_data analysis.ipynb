{
 "cells": [
  {
   "cell_type": "code",
   "execution_count": 1,
   "metadata": {},
   "outputs": [],
   "source": [
    "import pandas as pd\n",
    "import numpy as np\n",
    "import os"
   ]
  },
  {
   "cell_type": "markdown",
   "metadata": {},
   "source": [
    "# reading Data from textfile and converting to pickle format"
   ]
  },
  {
   "cell_type": "code",
   "execution_count": 2,
   "metadata": {},
   "outputs": [],
   "source": [
    "address=\"F:/old destop/thesis/cern data analysis/\"\n",
    "filelist = ['File1.txt',\"File2.txt\",\"File3.txt\",\"File4.txt\",\"File5.txt\",\"File6.txt\"]\n",
    "filelist=[address+i for i in filelist]\n",
    "df= pd.concat([pd.read_table(item,delim_whitespace=True,names=(\"Meter_ID\",\"Date_time\",\"Consumption(Khw)\")) for item in (filelist[:1])])\n",
    "# df.to_pickle(\"F:/old destop/thesis/cern data analysis data.pkl\")"
   ]
  },
  {
   "cell_type": "markdown",
   "metadata": {},
   "source": [
    "# reading pickle Data"
   ]
  },
  {
   "cell_type": "code",
   "execution_count": null,
   "metadata": {},
   "outputs": [],
   "source": [
    "df=pd.read_pickle(\"F:/old destop/thesis/cern data analysis/data.pkl\")\n",
    "dd.info()\n",
    "# df=dd.head(10000)\n",
    "# dd.head()"
   ]
  },
  {
   "cell_type": "markdown",
   "metadata": {},
   "source": [
    "# Convert Date-Time to proper format"
   ]
  },
  {
   "cell_type": "code",
   "execution_count": null,
   "metadata": {},
   "outputs": [],
   "source": [
    "from datetime import datetime\n",
    "\n",
    "def convertToDatetime(date):\n",
    "    date_int=int(date[:3])\n",
    "    time_int=int(date[3:5])\n",
    "    timestamp = 1230796800 + (date_int - 195) * 86400 + time_int * 1800\n",
    "    return datetime.fromtimestamp(timestamp)\n",
    "\n",
    "df['Date'] = df.apply(lambda row: str(convertToDatetime(str(row['Date_time'])).date()), axis = 1)\n",
    "\n",
    "df['time'] = df.apply(lambda row: str(convertToDatetime(str(row['Date_time'])).time()), axis = 1)\n",
    "df.drop(\"Data_time\",axis=1,inplace=True)\n",
    "\n",
    "df.info()\n",
    "df.head()"
   ]
  },
  {
   "cell_type": "markdown",
   "metadata": {},
   "source": [
    "# setting meter_id & date as index "
   ]
  },
  {
   "cell_type": "code",
   "execution_count": null,
   "metadata": {
    "scrolled": true
   },
   "outputs": [],
   "source": [
    "test=df.pivot_table('Consumption(Khw)',index=['Meter_ID','Date'],columns='time')\n",
    "test.head()"
   ]
  }
 ],
 "metadata": {
  "kernelspec": {
   "display_name": "Python 3",
   "language": "python",
   "name": "python3"
  },
  "language_info": {
   "codemirror_mode": {
    "name": "ipython",
    "version": 3
   },
   "file_extension": ".py",
   "mimetype": "text/x-python",
   "name": "python",
   "nbconvert_exporter": "python",
   "pygments_lexer": "ipython3",
   "version": "3.7.0"
  }
 },
 "nbformat": 4,
 "nbformat_minor": 2
}
